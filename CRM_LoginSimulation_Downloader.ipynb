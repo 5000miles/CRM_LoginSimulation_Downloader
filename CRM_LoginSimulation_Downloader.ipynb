{
 "cells": [
  {
   "cell_type": "code",
   "execution_count": 1,
   "metadata": {},
   "outputs": [],
   "source": [
    "import requests\n",
    "from bs4 import BeautifulSoup\n",
    "from datetime import date"
   ]
  },
  {
   "cell_type": "code",
   "execution_count": 7,
   "metadata": {},
   "outputs": [
    {
     "name": "stdout",
     "output_type": "stream",
     "text": [
      "12-16-C.xlsx\n"
     ]
    }
   ],
   "source": [
    "# set up the output file name, format as 'mm-dd-B/C.xlsx'\n",
    "today = date.today()\n",
    "\n",
    "today_date = today.strftime(\"%m-%d\")\n",
    "\n",
    "file_name_B = today_date + '-B.xlsx'\n",
    "file_name_C = today_date + '-C.xlsx'"
   ]
  },
  {
   "cell_type": "code",
   "execution_count": 2,
   "metadata": {},
   "outputs": [],
   "source": [
    "# define arguments post data form \n",
    "\n",
    "VIEWSTATE = '/wEPDwUJNjY3MTI3NDEwZGTpS4MUsFN4vXqy6QwXfBsm0K1+VBTjj+9YyIjY/w8ZfA=='\n",
    "VIEWSTATEGENERATOR = 'A97A4898'\n",
    "SCROLLPOSITIONX = '0'\n",
    "SCROLLPOSITIONY = '0'\n",
    "EVENTTARGET = ''\n",
    "EVENTARGUMENT = ''\n",
    "EVENTVALIDATION = '/wEdAARm8zv2NlGMPsh2Ew3kVTx0KhoCyVdJtLIis5AgYZ/RYe4sciJO3Hoc68xTFtZGQEjN+DvxnwFeFeJ9MIBWR6934Rj8plhA1ljvNw9LMn7jOp3JEimc9iJviqPbvv6eBpM='\n",
    "\n",
    "EVENTTARGET = ''\n",
    "EVENTARGUMENT = ''"
   ]
  },
  {
   "cell_type": "code",
   "execution_count": 3,
   "metadata": {},
   "outputs": [],
   "source": [
    "# login simulation\n",
    "\n",
    "url_login = 'http://xxxxxxxxxxxx/m/Login.aspx'\n",
    "download_url = 'http://xxxxxxxxxxxx.net/m/m1/%E9%94%80%E5%94%AE%E9%A1%B5%E9%9D%A2.aspx?fid=100&zid=106&'\n",
    "\n",
    "s = requests.Session()\n",
    "\n",
    "login_data = {'__VIEWSTATE':VIEWSTATE,\n",
    "           '__VIEWSTATEGENERATOR':VIEWSTATEGENERATOR,\n",
    "           '__SCROLLPOSITIONX':SCROLLPOSITIONX,\n",
    "           '__SCROLLPOSITIONY':SCROLLPOSITIONY,\n",
    "           '__EVENTTARGET':EVENTTARGET,\n",
    "           '__EVENTARGUMENT':EVENTARGUMENT,\n",
    "           '__EVENTVALIDATION':EVENTVALIDATION,\n",
    "           'username':'aaa',\n",
    "           'password':'aaaaaaaaa',\n",
    "           'Button1':'Login'\n",
    "           }\n",
    "\n",
    "s1 = s.post(url_login,login_data)"
   ]
  },
  {
   "cell_type": "code",
   "execution_count": 4,
   "metadata": {},
   "outputs": [],
   "source": [
    "# using bs to catch values of VIEWSTATE & EVENTVALIDATION (chang every time), using these value to post\n",
    "\n",
    "download_url = 'http://xxxxxxxxxxxx.net/m/m1/%E9%94%80%E5%94%AE%E9%A1%B5%E9%9D%A2.aspx?fid=100&zid=104&'\n",
    "\n",
    "LoginIndex = s.get(download_url, timeout = 3).content\n",
    "\n",
    "Soup = BeautifulSoup(LoginIndex, 'lxml')\n",
    "Input_tag = Soup.find_all('input')\n",
    "DataList = []\n",
    "for DataValue in Input_tag[0:9]:\n",
    "    GetData = DataValue.get('value')\n",
    "    DataList.append(GetData)\n",
    "\n",
    "VIEWSTATE = DataList[0].strip()\n",
    "\n",
    "EVENTVALIDATION = DataList[3].strip()"
   ]
  },
  {
   "cell_type": "code",
   "execution_count": 5,
   "metadata": {},
   "outputs": [],
   "source": [
    "# file B download post\n",
    "\n",
    "# download post Data Form\n",
    "excel_data_b = {\n",
    "    '__EVENTTARGET':EVENTTARGET,\n",
    "    '__EVENTARGUMENT':EVENTARGUMENT ,\n",
    "    '__LASTFOCUS':'',\n",
    "    '__VIEWSTATE':VIEWSTATE,\n",
    "    '__VIEWSTATEGENERATOR': VIEWSTATEGENERATOR,\n",
    "    '__SCROLLPOSITIONX':SCROLLPOSITIONX,\n",
    "    '__SCROLLPOSITIONY':SCROLLPOSITIONY,\n",
    "    '__VIEWSTATEENCRYPTED':'',\n",
    "    '__EVENTVALIDATION':EVENTVALIDATION,\n",
    "    'GRD':'',\n",
    "    'Status':'All Status',\n",
    "    'Sources':'All Sources',\n",
    "    'All':'Mark Status',\n",
    "    'CommissionStatus':'All Commission Status',\n",
    "    'riqi3':'',\n",
    "    'riqi4':'',\n",
    "    'riqi1':'',\n",
    "    'riqi2':'',\n",
    "    'Export':'Export',\n",
    "    'Search':'-Default-',\n",
    "    'Order':'-Order-',\n",
    "    'g2$ctl23$txtGoPage': '1'}\n",
    "\n",
    "req_b = s.post(download_url,excel_data_b,stream = True )\n",
    "\n",
    "with open(file_name_B,'wb') as code:\n",
    "    code.write(req_b.content)"
   ]
  },
  {
   "cell_type": "code",
   "execution_count": 6,
   "metadata": {},
   "outputs": [],
   "source": [
    "# file C download post\n",
    "\n",
    "# download post Data Form\n",
    "excel_data_c = {\n",
    "    '__EVENTTARGET':EVENTTARGET,\n",
    "    '__EVENTARGUMENT':EVENTARGUMENT ,\n",
    "    '__LASTFOCUS':'',\n",
    "    '__VIEWSTATE':VIEWSTATE,\n",
    "    '__VIEWSTATEGENERATOR': VIEWSTATEGENERATOR,\n",
    "    '__SCROLLPOSITIONX':SCROLLPOSITIONX,\n",
    "    '__SCROLLPOSITIONY':SCROLLPOSITIONY,\n",
    "    '__VIEWSTATEENCRYPTED':'',\n",
    "    '__EVENTVALIDATION':EVENTVALIDATION,\n",
    "    'GRD':'',\n",
    "    'Status':'All Status',\n",
    "    'Sources':'All Sources',\n",
    "    'All':'Mark Status',\n",
    "    'CommissionStatus':'All Commission Status',\n",
    "    'riqi3':'',\n",
    "    'riqi4':'',\n",
    "    'riqi1':'',\n",
    "    'riqi2':'',\n",
    "    'Export':'Export',\n",
    "    'Search':'-Default-',\n",
    "    'Order':'-Order-',\n",
    "    'g2$ctl23$txtGoPage': '1'}\n",
    "\n",
    "req_c = s.post(download_url,excel_data_c,stream = True )\n",
    "\n",
    "with open(file_name_C,'wb') as code:\n",
    "    code.write(req_c.content)"
   ]
  }
 ],
 "metadata": {
  "kernelspec": {
   "display_name": "Python 3",
   "language": "python",
   "name": "python3"
  },
  "language_info": {
   "codemirror_mode": {
    "name": "ipython",
    "version": 3
   },
   "file_extension": ".py",
   "mimetype": "text/x-python",
   "name": "python",
   "nbconvert_exporter": "python",
   "pygments_lexer": "ipython3",
   "version": "3.7.4"
  }
 },
 "nbformat": 4,
 "nbformat_minor": 2
}
